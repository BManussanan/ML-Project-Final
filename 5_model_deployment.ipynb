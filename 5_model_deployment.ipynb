{
 "cells": [
  {
   "cell_type": "code",
   "execution_count": 1,
   "id": "3e68fd6f",
   "metadata": {},
   "outputs": [
    {
     "name": "stderr",
     "output_type": "stream",
     "text": [
      "c:\\Users\\borfor\\Documents\\ML-Project-Final\\.venv\\Lib\\site-packages\\tqdm\\auto.py:21: TqdmWarning: IProgress not found. Please update jupyter and ipywidgets. See https://ipywidgets.readthedocs.io/en/stable/user_install.html\n",
      "  from .autonotebook import tqdm as notebook_tqdm\n"
     ]
    },
    {
     "name": "stdout",
     "output_type": "stream",
     "text": [
      "* Running on local URL:  http://127.0.0.1:7869\n",
      "* Running on public URL: https://a8161671df0d4910d1.gradio.live\n",
      "\n",
      "This share link expires in 1 week. For free permanent hosting and GPU upgrades, run `gradio deploy` from the terminal in the working directory to deploy to Hugging Face Spaces (https://huggingface.co/spaces)\n"
     ]
    },
    {
     "data": {
      "text/html": [
       "<div><iframe src=\"https://a8161671df0d4910d1.gradio.live\" width=\"100%\" height=\"500\" allow=\"autoplay; camera; microphone; clipboard-read; clipboard-write;\" frameborder=\"0\" allowfullscreen></iframe></div>"
      ],
      "text/plain": [
       "<IPython.core.display.HTML object>"
      ]
     },
     "metadata": {},
     "output_type": "display_data"
    },
    {
     "name": "stderr",
     "output_type": "stream",
     "text": [
      "Traceback (most recent call last):\n",
      "  File \"c:\\Users\\borfor\\Documents\\ML-Project-Final\\.venv\\Lib\\site-packages\\gradio\\queueing.py\", line 745, in process_events\n",
      "    response = await route_utils.call_process_api(\n",
      "               ^^^^^^^^^^^^^^^^^^^^^^^^^^^^^^^^^^^\n",
      "  File \"c:\\Users\\borfor\\Documents\\ML-Project-Final\\.venv\\Lib\\site-packages\\gradio\\route_utils.py\", line 353, in call_process_api\n",
      "    output = await app.get_blocks().process_api(\n",
      "             ^^^^^^^^^^^^^^^^^^^^^^^^^^^^^^^^^^^\n",
      "  File \"c:\\Users\\borfor\\Documents\\ML-Project-Final\\.venv\\Lib\\site-packages\\gradio\\blocks.py\", line 2112, in process_api\n",
      "    inputs = await self.preprocess_data(\n",
      "             ^^^^^^^^^^^^^^^^^^^^^^^^^^^\n",
      "  File \"c:\\Users\\borfor\\Documents\\ML-Project-Final\\.venv\\Lib\\site-packages\\gradio\\blocks.py\", line 1774, in preprocess_data\n",
      "    processed_input.append(block.preprocess(inputs_cached))\n",
      "                           ^^^^^^^^^^^^^^^^^^^^^^^^^^^^^^^\n",
      "  File \"c:\\Users\\borfor\\Documents\\ML-Project-Final\\.venv\\Lib\\site-packages\\gradio\\components\\number.py\", line 142, in preprocess\n",
      "    self.raise_if_out_of_bounds(payload, self.minimum, self.maximum)\n",
      "  File \"c:\\Users\\borfor\\Documents\\ML-Project-Final\\.venv\\Lib\\site-packages\\gradio\\components\\number.py\", line 129, in raise_if_out_of_bounds\n",
      "    raise Error(f\"Value {num} is less than minimum value {minimum}.\")\n",
      "gradio.exceptions.Error: 'Value 0 is less than minimum value 10000.'\n"
     ]
    }
   ],
   "source": [
    "import joblib\n",
    "import pandas as pd\n",
    "import gradio as gr\n",
    "\n",
    "attrition_model = joblib.load(\"rf_selected_features_model.joblib\")\n",
    "\n",
    "model_features = [\n",
    "    'StockOptionLevel','Age','EnvironmentSatisfaction','JobLevel',\n",
    "    'JobRole_Laboratory Technician','MonthlyIncome','YearsAtCompany',\n",
    "    'JobSatisfaction','YearsSinceLastPromotion','JobRole_Healthcare Representative',\n",
    "    'BusinessTravel_Travel_Frequently','PercentSalaryHike','YearsInCurrentRole',\n",
    "    'OverTime_Yes','DailyRate'\n",
    "]\n",
    "\n",
    "satisfaction_map = {\n",
    "    \"1 - Bad (แย่สุด)\": 1,\n",
    "    \"2 - Moderate (ปานกลาง)\": 2,\n",
    "    \"3 - Good (ดี)\": 3,\n",
    "    \"4 - Very Good (ดีมาก)\": 4\n",
    "}\n",
    "\n",
    "job_level_map = {\n",
    "    \"Entry-level (Staff / New Grad)\": 1,\n",
    "    \"Officer / Staff\": 2,\n",
    "    \"Senior / Specialist\": 3,\n",
    "    \"Manager\": 4,\n",
    "    \"Director / Executive\": 5\n",
    "}\n",
    "\n",
    "business_travel_map = {\n",
    "    \"Never travel (0 ครั้ง/เดือน)\": \"Non-Travel\",\n",
    "    \"Travel occasionally (1-2 ครั้ง/เดือน)\": \"Travel_Rarely\",\n",
    "    \"Travel frequently (>3 ครั้ง/เดือน)\": \"Travel_Frequently\"\n",
    "}\n",
    "\n",
    "def scale_income(income_baht):\n",
    "    min_baht, max_baht = 10000, 100000\n",
    "    min_dataset, max_dataset = 1009, 19999\n",
    "    scaled = (income_baht - min_baht) * (max_dataset - min_dataset) / (max_baht - min_baht) + min_dataset\n",
    "    return max(min_dataset, min(scaled, max_dataset))\n",
    "\n",
    "def predict_attrition(age, overtime, monthly_income, years_at_company, years_in_current_role,\n",
    "                      job_satisfaction, env_satisfaction, job_level, business_travel):\n",
    "\n",
    "    sample = pd.DataFrame(0, index=[0], columns=model_features)\n",
    "\n",
    "    sample['Age'] = age\n",
    "    sample['OverTime_Yes'] = 1 if overtime == \"Yes\" else 0\n",
    "\n",
    "    scaled_income = scale_income(monthly_income)\n",
    "    sample['MonthlyIncome'] = scaled_income\n",
    "\n",
    "    sample['YearsAtCompany'] = years_at_company\n",
    "    sample['YearsInCurrentRole'] = years_in_current_role\n",
    "    sample['JobSatisfaction'] = satisfaction_map[job_satisfaction]\n",
    "    sample['EnvironmentSatisfaction'] = satisfaction_map[env_satisfaction]\n",
    "    sample['JobLevel'] = job_level_map[job_level]\n",
    "    \n",
    "    travel_value = business_travel_map[business_travel]\n",
    "    sample['BusinessTravel_Travel_Frequently'] = 1 if travel_value == \"Travel_Frequently\" else 0\n",
    "\n",
    "    sample['StockOptionLevel'] = 0\n",
    "    sample['YearsSinceLastPromotion'] = 0\n",
    "    sample['PercentSalaryHike'] = 10\n",
    "    sample['DailyRate'] = 500\n",
    "    sample['JobRole_Laboratory Technician'] = 0\n",
    "    sample['JobRole_Healthcare Representative'] = 0\n",
    "\n",
    "    pred = attrition_model.predict(sample)[0]\n",
    "    return \"Yes (ลาออก)\" if pred == 1 else \"No (ไม่ลาออก)\"\n",
    "\n",
    "\n",
    "overtime = ['Yes', 'No']\n",
    "satisfaction_choices = list(satisfaction_map.keys())\n",
    "job_level_choices = list(job_level_map.keys())\n",
    "business_travel_choices = list(business_travel_map.keys())\n",
    "\n",
    "with gr.Blocks(theme=gr.themes.Soft()) as demo:\n",
    "    with gr.Row():\n",
    "        age = gr.Slider(label=\"Age\", minimum=18, maximum=60, step=1)\n",
    "        monthly_income = gr.Number(\n",
    "            label=\"Monthly Income (บาท)\",\n",
    "            minimum=10000,\n",
    "            maximum=100000,\n",
    "        )\n",
    "\n",
    "    with gr.Row():\n",
    "        years_at_company = gr.Slider(label=\"Years At Company\", minimum=0, maximum=40, step=1)\n",
    "        years_in_current_role = gr.Slider(label=\"Years In Current Role\", minimum=0, maximum=20, step=1)\n",
    "\n",
    "    with gr.Row():\n",
    "        job_satisfaction = gr.Dropdown(satisfaction_choices, label=\"Job Satisfaction\")\n",
    "        env_satisfaction = gr.Dropdown(satisfaction_choices, label=\"Environment Satisfaction\")\n",
    "\n",
    "    with gr.Row():\n",
    "        job_level = gr.Dropdown(job_level_choices, label=\"Job Level\")\n",
    "        overtime_input = gr.Dropdown(overtime, label=\"Do you often work overtime?\")\n",
    "        business_travel_input = gr.Dropdown(business_travel_choices, label=\"Business Travel (ครั้ง/เดือน)\")\n",
    "\n",
    "    predict_btn = gr.Button(\"Predict Attrition\", variant=\"primary\")\n",
    "    result = gr.Textbox(label=\"Prediction Result\")\n",
    "\n",
    "    inputs = [age, overtime_input, monthly_income, years_at_company, years_in_current_role,\n",
    "              job_satisfaction, env_satisfaction, job_level, business_travel_input]\n",
    "\n",
    "    predict_btn.click(predict_attrition, inputs=inputs, outputs=[result])\n",
    "\n",
    "if __name__ == \"__main__\":\n",
    "    demo.launch(share=True)\n"
   ]
  }
 ],
 "metadata": {
  "kernelspec": {
   "display_name": ".venv",
   "language": "python",
   "name": "python3"
  },
  "language_info": {
   "codemirror_mode": {
    "name": "ipython",
    "version": 3
   },
   "file_extension": ".py",
   "mimetype": "text/x-python",
   "name": "python",
   "nbconvert_exporter": "python",
   "pygments_lexer": "ipython3",
   "version": "3.11.9"
  }
 },
 "nbformat": 4,
 "nbformat_minor": 5
}
