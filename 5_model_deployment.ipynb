{
 "cells": [
  {
   "cell_type": "code",
   "execution_count": 3,
   "id": "3e68fd6f",
   "metadata": {},
   "outputs": [
    {
     "name": "stdout",
     "output_type": "stream",
     "text": [
      "* Running on local URL:  http://127.0.0.1:7862\n",
      "* Running on public URL: https://0f8b317f87dcdca38a.gradio.live\n",
      "\n",
      "This share link expires in 1 week. For free permanent hosting and GPU upgrades, run `gradio deploy` from the terminal in the working directory to deploy to Hugging Face Spaces (https://huggingface.co/spaces)\n"
     ]
    },
    {
     "data": {
      "text/html": [
       "<div><iframe src=\"https://0f8b317f87dcdca38a.gradio.live\" width=\"100%\" height=\"500\" allow=\"autoplay; camera; microphone; clipboard-read; clipboard-write;\" frameborder=\"0\" allowfullscreen></iframe></div>"
      ],
      "text/plain": [
       "<IPython.core.display.HTML object>"
      ]
     },
     "metadata": {},
     "output_type": "display_data"
    }
   ],
   "source": [
    "import joblib\n",
    "import pandas as pd\n",
    "import gradio as gr\n",
    "\n",
    "attrition_model = joblib.load(\"rf_selected_features_model.joblib\")\n",
    "\n",
    "model_features = [\n",
    "    'StockOptionLevel','Age','EnvironmentSatisfaction','JobLevel',\n",
    "    'JobRole_Laboratory Technician','MonthlyIncome','YearsAtCompany',\n",
    "    'JobSatisfaction','YearsSinceLastPromotion','JobRole_Healthcare Representative',\n",
    "    'BusinessTravel_Travel_Frequently','PercentSalaryHike','YearsInCurrentRole',\n",
    "    'OverTime_Yes','DailyRate'\n",
    "]\n",
    "\n",
    "def predict_attrition(age, overtime, monthly_income, years_at_company, years_in_current_role,\n",
    "                      job_satisfaction, env_satisfaction, job_level, business_travel):\n",
    "\n",
    "    sample = pd.DataFrame(0, index=[0], columns=model_features)\n",
    "\n",
    "    sample['Age'] = age\n",
    "    sample['OverTime_Yes'] = 1 if overtime == \"Yes\" else 0\n",
    "    sample['MonthlyIncome'] = monthly_income\n",
    "    sample['YearsAtCompany'] = years_at_company\n",
    "    sample['YearsInCurrentRole'] = years_in_current_role\n",
    "    sample['JobSatisfaction'] = job_satisfaction\n",
    "    sample['EnvironmentSatisfaction'] = env_satisfaction\n",
    "    sample['JobLevel'] = job_level\n",
    "    sample['BusinessTravel_Travel_Frequently'] = 1 if business_travel == \"Travel_Frequently\" else 0\n",
    "\n",
    "    sample['StockOptionLevel'] = 0\n",
    "    sample['YearsSinceLastPromotion'] = 0\n",
    "    sample['PercentSalaryHike'] = 10\n",
    "    sample['DailyRate'] = 500\n",
    "    sample['JobRole_Laboratory Technician'] = 0\n",
    "    sample['JobRole_Healthcare Representative'] = 0\n",
    "\n",
    "    pred = attrition_model.predict(sample)[0]\n",
    "    return \"Yes (ลาออก)\" if pred == 1 else \"No (ไม่ลาออก)\"\n",
    "\n",
    "overtime = ['Yes', 'No']\n",
    "business_travel = ['Non-Travel', 'Travel_Rarely', 'Travel_Frequently']\n",
    "\n",
    "with gr.Blocks(theme=gr.themes.Soft()) as demo:\n",
    "    with gr.Row():\n",
    "        age = gr.Slider(label=\"Age\", minimum=18, maximum=60, step=1)\n",
    "        monthly_income = gr.Number(label=\"Monthly Income\", minimum=0)\n",
    "\n",
    "    with gr.Row():\n",
    "        years_at_company = gr.Slider(label=\"Years At Company\", minimum=0, maximum=40, step=1)\n",
    "        years_in_current_role = gr.Slider(label=\"Years In Current Role\", minimum=0, maximum=20, step=1)\n",
    "\n",
    "    with gr.Row():\n",
    "        job_satisfaction = gr.Slider(label=\"Job Satisfaction (1-4)\", minimum=1, maximum=4, step=1)\n",
    "        env_satisfaction = gr.Slider(label=\"Environment Satisfaction (1-4)\", minimum=1, maximum=4, step=1)\n",
    "\n",
    "    with gr.Row():\n",
    "        job_level = gr.Slider(label=\"Job Level\", minimum=1, maximum=5, step=1)\n",
    "        overtime_input = gr.Dropdown(overtime, label=\"OverTime\")\n",
    "        business_travel_input = gr.Dropdown(business_travel, label=\"Business Travel\")\n",
    "\n",
    "    predict_btn = gr.Button(\"Predict Attrition\", variant=\"primary\")\n",
    "    result = gr.Textbox(label=\"Prediction Result\")\n",
    "\n",
    "    inputs = [age, overtime_input, monthly_income, years_at_company, years_in_current_role,\n",
    "              job_satisfaction, env_satisfaction, job_level, business_travel_input]\n",
    "\n",
    "    predict_btn.click(predict_attrition, inputs=inputs, outputs=[result])\n",
    "\n",
    "if __name__ == \"__main__\":\n",
    "    demo.launch(share=True)\n"
   ]
  }
 ],
 "metadata": {
  "kernelspec": {
   "display_name": ".venv",
   "language": "python",
   "name": "python3"
  },
  "language_info": {
   "codemirror_mode": {
    "name": "ipython",
    "version": 3
   },
   "file_extension": ".py",
   "mimetype": "text/x-python",
   "name": "python",
   "nbconvert_exporter": "python",
   "pygments_lexer": "ipython3",
   "version": "3.11.9"
  }
 },
 "nbformat": 4,
 "nbformat_minor": 5
}
